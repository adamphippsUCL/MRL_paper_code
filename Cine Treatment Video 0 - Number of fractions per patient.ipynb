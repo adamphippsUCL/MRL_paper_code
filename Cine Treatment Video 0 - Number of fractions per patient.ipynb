{
 "cells": [
  {
   "cell_type": "code",
   "execution_count": 2,
   "id": "50f022d2",
   "metadata": {},
   "outputs": [],
   "source": [
    "import pickle\n"
   ]
  },
  {
   "cell_type": "markdown",
   "id": "008cfb57",
   "metadata": {},
   "source": [
    "#### Number of fractions per patient"
   ]
  },
  {
   "cell_type": "code",
   "execution_count": 3,
   "id": "d5e354c6",
   "metadata": {},
   "outputs": [],
   "source": [
    "pat_nums = [1,2,3,4,5,6,7,8,9,10,12]\n",
    "\n",
    "\n",
    "with open('Cine Pickles/patient_numbers.pickle', 'wb') as handle:\n",
    "    pickle.dump(pat_nums, handle, protocol=pickle.HIGHEST_PROTOCOL)\n",
    "\n",
    "frac_nums = [5,4,5,8,5,4,5,5,5,5,5]"
   ]
  },
  {
   "cell_type": "code",
   "execution_count": 4,
   "id": "5f90cbe1",
   "metadata": {},
   "outputs": [],
   "source": [
    "pat_num_2_frac_nums = dict( zip(pat_nums, frac_nums))\n",
    "\n",
    "\n",
    "\n",
    "with open('Cine Pickles/pat_num_2_frac_nums.pickle', 'wb') as handle:\n",
    "    pickle.dump(pat_num_2_frac_nums, handle, protocol=pickle.HIGHEST_PROTOCOL)\n",
    "\n",
    "\n",
    "\n",
    "\n"
   ]
  },
  {
   "cell_type": "code",
   "execution_count": 3,
   "id": "704d0573",
   "metadata": {},
   "outputs": [],
   "source": [
    "MR_resos = [144, 112, 100]\n",
    "\n",
    "## Fill these in from phantom measurements\n",
    "\n",
    "pixel_sizes = [ 0.81 , 0.60 , 0.79]\n",
    "\n",
    "MR_res_2_pixel_size = dict( zip(MR_resos, pixel_sizes))\n",
    "\n",
    "\n",
    "with open('Cine Pickles/MR_res_2_pixel_size.pickle', 'wb') as handle:\n",
    "    pickle.dump(MR_res_2_pixel_size, handle, protocol=pickle.HIGHEST_PROTOCOL)\n",
    "\n",
    "\n"
   ]
  },
  {
   "cell_type": "code",
   "execution_count": 3,
   "id": "35c727bd",
   "metadata": {},
   "outputs": [],
   "source": [
    "MR_resos = [144, 112, 100]\n",
    "\n",
    "MR_min_resolve = [1.5 , 1.5 , 1.5] #mm\n",
    "\n",
    "### Maybe [1.5, 1.12, ...]  \n",
    "\n",
    "MR_res_2_min_resolve = dict( zip(MR_resos, MR_min_resolve))\n",
    "\n",
    "\n",
    "with open('Cine Pickles/MR_res_2_min_resolve.pickle', 'wb') as handle:\n",
    "    pickle.dump(MR_res_2_min_resolve, handle, protocol=pickle.HIGHEST_PROTOCOL)\n",
    "\n",
    "\n",
    "\n"
   ]
  },
  {
   "cell_type": "code",
   "execution_count": null,
   "id": "3474109a",
   "metadata": {},
   "outputs": [],
   "source": []
  }
 ],
 "metadata": {
  "kernelspec": {
   "display_name": "Python 3 (ipykernel)",
   "language": "python",
   "name": "python3"
  },
  "language_info": {
   "codemirror_mode": {
    "name": "ipython",
    "version": 3
   },
   "file_extension": ".py",
   "mimetype": "text/x-python",
   "name": "python",
   "nbconvert_exporter": "python",
   "pygments_lexer": "ipython3",
   "version": "3.9.7"
  }
 },
 "nbformat": 4,
 "nbformat_minor": 5
}
