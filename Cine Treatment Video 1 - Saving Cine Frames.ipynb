{
 "cells": [
  {
   "cell_type": "markdown",
   "id": "092dde54",
   "metadata": {},
   "source": [
    "### Save Cine Frames to Folder\n",
    "\n",
    "In this script, the cine video is selected, then all the frames are saved to a folder."
   ]
  },
  {
   "cell_type": "code",
   "execution_count": 13,
   "id": "f7f7c23a",
   "metadata": {},
   "outputs": [],
   "source": [
    "import av\n",
    "\n",
    "import numpy as np"
   ]
  },
  {
   "cell_type": "markdown",
   "id": "77154c70",
   "metadata": {},
   "source": [
    "#### Load in Cine video"
   ]
  },
  {
   "cell_type": "code",
   "execution_count": 1,
   "id": "b7f66028",
   "metadata": {},
   "outputs": [],
   "source": [
    "cine_video_name = 'test04_cine_frac05.ogv'\n",
    "\n",
    "\n",
    "cine_video_name = 'ZZZZZ, Modus4D  - Fraction1 - 1.ogv'\n",
    "\n",
    "\n",
    "#cine = av.open('Cine video files/' + cine_video_name)"
   ]
  },
  {
   "cell_type": "markdown",
   "id": "2567f120",
   "metadata": {},
   "source": [
    "#### Create folder for cine files"
   ]
  },
  {
   "cell_type": "code",
   "execution_count": 3,
   "id": "e2a0e165",
   "metadata": {},
   "outputs": [
    {
     "ename": "FileExistsError",
     "evalue": "[WinError 183] Cannot create a file when that file already exists: 'Cine frames/test04_cine_frac05.ogv'",
     "output_type": "error",
     "traceback": [
      "\u001b[1;31m---------------------------------------------------------------------------\u001b[0m",
      "\u001b[1;31mFileExistsError\u001b[0m                           Traceback (most recent call last)",
      "\u001b[1;32m~\\AppData\\Local\\Temp/ipykernel_12780/1907071155.py\u001b[0m in \u001b[0;36m<module>\u001b[1;34m\u001b[0m\n\u001b[0;32m      1\u001b[0m \u001b[1;32mimport\u001b[0m \u001b[0mos\u001b[0m\u001b[1;33m\u001b[0m\u001b[1;33m\u001b[0m\u001b[0m\n\u001b[0;32m      2\u001b[0m \u001b[1;33m\u001b[0m\u001b[0m\n\u001b[1;32m----> 3\u001b[1;33m \u001b[0mos\u001b[0m\u001b[1;33m.\u001b[0m\u001b[0mmakedirs\u001b[0m\u001b[1;33m(\u001b[0m\u001b[1;34m'Cine frames/'\u001b[0m \u001b[1;33m+\u001b[0m \u001b[0mcine_video_name\u001b[0m\u001b[1;33m)\u001b[0m\u001b[1;33m\u001b[0m\u001b[1;33m\u001b[0m\u001b[0m\n\u001b[0m",
      "\u001b[1;32m~\\anaconda3\\envs\\MPhys_Environment_20211218\\lib\\os.py\u001b[0m in \u001b[0;36mmakedirs\u001b[1;34m(name, mode, exist_ok)\u001b[0m\n\u001b[0;32m    223\u001b[0m             \u001b[1;32mreturn\u001b[0m\u001b[1;33m\u001b[0m\u001b[1;33m\u001b[0m\u001b[0m\n\u001b[0;32m    224\u001b[0m     \u001b[1;32mtry\u001b[0m\u001b[1;33m:\u001b[0m\u001b[1;33m\u001b[0m\u001b[1;33m\u001b[0m\u001b[0m\n\u001b[1;32m--> 225\u001b[1;33m         \u001b[0mmkdir\u001b[0m\u001b[1;33m(\u001b[0m\u001b[0mname\u001b[0m\u001b[1;33m,\u001b[0m \u001b[0mmode\u001b[0m\u001b[1;33m)\u001b[0m\u001b[1;33m\u001b[0m\u001b[1;33m\u001b[0m\u001b[0m\n\u001b[0m\u001b[0;32m    226\u001b[0m     \u001b[1;32mexcept\u001b[0m \u001b[0mOSError\u001b[0m\u001b[1;33m:\u001b[0m\u001b[1;33m\u001b[0m\u001b[1;33m\u001b[0m\u001b[0m\n\u001b[0;32m    227\u001b[0m         \u001b[1;31m# Cannot rely on checking for EEXIST, since the operating system\u001b[0m\u001b[1;33m\u001b[0m\u001b[1;33m\u001b[0m\u001b[0m\n",
      "\u001b[1;31mFileExistsError\u001b[0m: [WinError 183] Cannot create a file when that file already exists: 'Cine frames/test04_cine_frac05.ogv'"
     ]
    }
   ],
   "source": [
    "import os\n",
    "\n",
    "os.makedirs('Cine frames/' + cine_video_name)"
   ]
  },
  {
   "cell_type": "code",
   "execution_count": 4,
   "id": "8386b142",
   "metadata": {},
   "outputs": [],
   "source": [
    "for frame in cine.decode(video=0):\n",
    "    frame.to_image().save('Cine frames/' + cine_video_name + '/frame-%04d.jpg' % frame.index)"
   ]
  },
  {
   "cell_type": "code",
   "execution_count": 10,
   "id": "55d7d89e",
   "metadata": {},
   "outputs": [],
   "source": [
    "#### Maybe add a bit here where the dimensions of pixels and the resolution of the MR scan is aved as a pickle for later use"
   ]
  },
  {
   "cell_type": "code",
   "execution_count": 10,
   "id": "194df655",
   "metadata": {},
   "outputs": [
    {
     "data": {
      "text/plain": [
       "6252.0"
      ]
     },
     "execution_count": 10,
     "metadata": {},
     "output_type": "execute_result"
    }
   ],
   "source": [
    "clip.duration*8\n"
   ]
  },
  {
   "cell_type": "markdown",
   "id": "d9a850b9",
   "metadata": {},
   "source": [
    "### PNG method below"
   ]
  },
  {
   "cell_type": "code",
   "execution_count": 1,
   "id": "1465f5f2",
   "metadata": {},
   "outputs": [],
   "source": [
    "from moviepy.editor import *\n",
    "\n",
    "import os\n",
    "\n",
    "import pickle\n",
    "\n",
    "import numpy as np\n",
    "\n",
    "import time\n"
   ]
  },
  {
   "cell_type": "code",
   "execution_count": 2,
   "id": "c5256b64",
   "metadata": {},
   "outputs": [],
   "source": [
    "with open('Cine Pickles/patient_numbers.pickle', 'rb') as handle:\n",
    "    pat_nums = pickle.load(handle)\n",
    "    \n",
    "with open('Cine Pickles/pat_num_2_frac_nums.pickle', 'rb') as handle:\n",
    "    pat_num_2_frac_nums = pickle.load(handle)"
   ]
  },
  {
   "cell_type": "code",
   "execution_count": 18,
   "id": "c5e2c6a7",
   "metadata": {
    "scrolled": false
   },
   "outputs": [
    {
     "name": "stdout",
     "output_type": "stream",
     "text": [
      "4997\n",
      "0.5\n",
      "0.5\n",
      "0.5\n"
     ]
    }
   ],
   "source": [
    "#cine_fps = 8\n",
    "\n",
    "# for pat_num in pat_nums:\n",
    "    \n",
    "#     for frac_num in range(1, pat_num_2_frac_nums[pat_num] + 1):\n",
    "        \n",
    "#         print( '------>' + str(pat_num) + ' , ' + str(frac_num))\n",
    "\n",
    "##################\n",
    "\n",
    "cine_video_name = 'phantom 4.ogv'\n",
    "\n",
    "\n",
    "#for i in [2,3]:\n",
    "\n",
    "#cine_video_name = 'ZZZZZ, Modus4D  - Fraction' + str(i) + ' - 1.ogv'\n",
    "\n",
    "#os.makedirs('Cine frames/' + cine_video_name)\n",
    "\n",
    "\n",
    "\n",
    "clip = VideoFileClip('Cine video files/' + cine_video_name)\n",
    "\n",
    "length = clip.duration\n",
    "\n",
    "cine_fps = int(clip.fps)\n",
    "\n",
    "\n",
    "\n",
    "number_of_frames = int(length*cine_fps)\n",
    "\n",
    "print(number_of_frames)\n",
    "\n",
    "\n",
    "#os.makedirs('Cine Pickles/' + cine_video_name  )\n",
    "\n",
    "\n",
    "with open('Cine Pickles/' + cine_video_name + '/number_of_frames.pickle', 'wb') as handle:\n",
    "    pickle.dump( number_of_frames, handle, protocol=pickle.HIGHEST_PROTOCOL)\n",
    "\n",
    "\n",
    "for t in np.arange( 0 , length , 1/cine_fps):\n",
    "\n",
    "\n",
    "\n",
    "    frame_index = int( cine_fps*t)\n",
    "\n",
    "    clip.save_frame('Cine frames/' + cine_video_name + '/frame-%04d.png' % frame_index , t )\n",
    "\n",
    "    if t % int( round(length, 0)/2 ) == 0:\n",
    "\n",
    "        print(1/2)\n",
    "\n",
    "            \n",
    "        #time.sleep(60)   \n",
    "            \n",
    "            \n"
   ]
  },
  {
   "cell_type": "code",
   "execution_count": 4,
   "id": "0f73c057",
   "metadata": {},
   "outputs": [
    {
     "name": "stdout",
     "output_type": "stream",
     "text": [
      "4.0\n"
     ]
    }
   ],
   "source": [
    "\n",
    "cine_video_name = 'pat_' + str(1) + '_frac_' + str(1) + '.ogv'\n",
    "\n",
    "clip = VideoFileClip('Cine video files/' + cine_video_name)\n",
    "\n",
    "length = clip.duration\n",
    "\n",
    "cine_fps = clip.fps\n",
    "\n",
    "print(cine_fps)\n",
    "\n",
    "\n",
    "# for t in np.arange( 0 , length , 0.125):\n",
    "\n",
    "\n",
    "\n",
    "#     frame_index = int( cine_fps*t)\n",
    "\n",
    "#     clip.save_frame('Cine frames/' + cine_video_name + '/frame-%04d.png' % frame_index , t )\n",
    "\n",
    "#     #print(t)\n",
    "    \n",
    "    \n",
    "\n",
    "\n",
    "\n"
   ]
  },
  {
   "cell_type": "code",
   "execution_count": 6,
   "id": "c7dfa124",
   "metadata": {},
   "outputs": [],
   "source": [
    "import os\n",
    "\n",
    "os.makedirs('Cine frames/testing pymovie')"
   ]
  },
  {
   "cell_type": "code",
   "execution_count": 8,
   "id": "4e97ff0d",
   "metadata": {
    "scrolled": false
   },
   "outputs": [
    {
     "name": "stdout",
     "output_type": "stream",
     "text": [
      "------>1 , 1\n",
      "804.25\n",
      "3217\n",
      "------>1 , 2\n",
      "945.0\n",
      "3780\n",
      "------>1 , 3\n",
      "636.25\n",
      "2545\n",
      "------>1 , 4\n",
      "564.0\n",
      "2256\n",
      "------>1 , 5\n",
      "675.0\n",
      "2700\n",
      "------>2 , 1\n",
      "921.13\n",
      "7369\n",
      "------>2 , 2\n",
      "1338.0\n",
      "10704\n",
      "------>2 , 3\n",
      "1851.0\n",
      "14808\n",
      "------>2 , 4\n",
      "984.0\n",
      "7872\n",
      "------>3 , 1\n",
      "622.5\n",
      "4980\n",
      "------>3 , 2\n",
      "681.13\n",
      "5449\n",
      "------>3 , 3\n",
      "691.63\n",
      "5533\n",
      "------>3 , 4\n",
      "640.63\n",
      "5125\n",
      "------>3 , 5\n",
      "642.0\n",
      "5136\n",
      "------>4 , 1\n",
      "909.0\n",
      "7272\n",
      "------>4 , 2\n",
      "376.5\n",
      "3012\n",
      "------>4 , 3\n",
      "1131.13\n",
      "9049\n",
      "------>4 , 4\n",
      "405.0\n",
      "3240\n",
      "------>4 , 5\n",
      "783.0\n",
      "6264\n",
      "------>4 , 6\n",
      "526.63\n",
      "4213\n",
      "------>4 , 7\n",
      "345.0\n",
      "2760\n",
      "------>4 , 8\n",
      "579.13\n",
      "4633\n",
      "------>5 , 1\n",
      "772.63\n",
      "6181\n",
      "------>5 , 2\n",
      "766.5\n",
      "6132\n",
      "------>5 , 3\n",
      "858.0\n",
      "6864\n",
      "------>5 , 4\n",
      "724.63\n",
      "5797\n",
      "------>5 , 5\n",
      "670.63\n",
      "5365\n",
      "------>6 , 1\n",
      "1569.25\n",
      "6277\n",
      "------>6 , 2\n",
      "871.25\n",
      "3485\n",
      "------>6 , 3\n",
      "997.25\n",
      "3989\n",
      "------>6 , 4\n",
      "835.25\n",
      "3341\n",
      "------>7 , 1\n",
      "763.63\n",
      "6109\n",
      "------>7 , 2\n",
      "738.0\n",
      "5904\n",
      "------>7 , 3\n",
      "742.5\n",
      "5940\n",
      "------>7 , 4\n",
      "756.0\n",
      "6048\n",
      "------>7 , 5\n",
      "781.5\n",
      "6252\n",
      "------>8 , 1\n",
      "1035.0\n",
      "8280\n",
      "------>8 , 2\n",
      "828.0\n",
      "6624\n",
      "------>8 , 3\n",
      "831.13\n",
      "6649\n",
      "------>8 , 4\n",
      "669.0\n",
      "5352\n",
      "------>8 , 5\n",
      "714.0\n",
      "5712\n",
      "------>9 , 1\n",
      "976.5\n",
      "7812\n",
      "------>9 , 2\n",
      "756.13\n",
      "6049\n",
      "------>9 , 3\n",
      "735.0\n",
      "5880\n",
      "------>9 , 4\n",
      "655.5\n",
      "5244\n",
      "------>9 , 5\n",
      "661.63\n",
      "5293\n",
      "------>10 , 1\n",
      "876.0\n",
      "7008\n",
      "------>10 , 2\n",
      "634.5\n",
      "5076\n",
      "------>10 , 3\n",
      "549.0\n",
      "4392\n",
      "------>10 , 4\n",
      "733.5\n",
      "5868\n",
      "------>10 , 5\n",
      "514.5\n",
      "4116\n",
      "------>11 , 1\n",
      "763.63\n",
      "6109\n",
      "------>11 , 2\n",
      "738.0\n",
      "5904\n",
      "------>11 , 3\n",
      "742.5\n",
      "5940\n",
      "------>11 , 4\n",
      "756.0\n",
      "6048\n",
      "------>11 , 5\n",
      "781.5\n",
      "6252\n",
      "------>12 , 1\n",
      "853.5\n",
      "6828\n",
      "------>12 , 2\n",
      "637.63\n",
      "5101\n",
      "------>12 , 3\n",
      "672.13\n",
      "5377\n",
      "------>12 , 4\n",
      "667.5\n",
      "5340\n",
      "------>12 , 5\n",
      "693.0\n",
      "5544\n"
     ]
    }
   ],
   "source": [
    "for pat_num in pat_nums:\n",
    "    \n",
    "    for frac_num in range(1, pat_num_2_frac_nums[pat_num] + 1):\n",
    "        \n",
    "        print( '------>' + str(pat_num) + ' , ' + str(frac_num))\n",
    "\n",
    "\n",
    "\n",
    "        cine_video_name = 'pat_' + str(pat_num) + '_frac_' + str(frac_num) + '.ogv'\n",
    "\n",
    "\n",
    "\n",
    "\n",
    "        clip = VideoFileClip('Cine video files/' + cine_video_name)\n",
    "\n",
    "        length = clip.duration\n",
    "        \n",
    "        print(length)\n",
    "\n",
    "        cine_fps = int(clip.fps)\n",
    "\n",
    "        number_of_frames = int(length*cine_fps)\n",
    "\n",
    "        print(number_of_frames)\n",
    "\n",
    "\n",
    "        #os.makedirs('Cine Pickles/' + cine_video_name  )\n",
    "\n",
    "\n",
    "        with open('Cine Pickles/' + cine_video_name + '/number_of_frames.pickle', 'wb') as handle:\n",
    "            pickle.dump( number_of_frames, handle, protocol=pickle.HIGHEST_PROTOCOL)"
   ]
  },
  {
   "cell_type": "code",
   "execution_count": null,
   "id": "5b50fb89",
   "metadata": {},
   "outputs": [],
   "source": []
  }
 ],
 "metadata": {
  "kernelspec": {
   "display_name": "Python 3 (ipykernel)",
   "language": "python",
   "name": "python3"
  },
  "language_info": {
   "codemirror_mode": {
    "name": "ipython",
    "version": 3
   },
   "file_extension": ".py",
   "mimetype": "text/x-python",
   "name": "python",
   "nbconvert_exporter": "python",
   "pygments_lexer": "ipython3",
   "version": "3.9.7"
  }
 },
 "nbformat": 4,
 "nbformat_minor": 5
}
